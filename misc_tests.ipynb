{
 "cells": [
  {
   "cell_type": "code",
   "execution_count": 1,
   "metadata": {},
   "outputs": [
    {
     "name": "stdout",
     "output_type": "stream",
     "text": [
      "Populating the interactive namespace from numpy and matplotlib\n"
     ]
    }
   ],
   "source": [
    "%pylab inline"
   ]
  },
  {
   "cell_type": "code",
   "execution_count": 2,
   "metadata": {
    "collapsed": true
   },
   "outputs": [],
   "source": [
    "from pylab import *\n",
    "rc(\"image\", cmap=\"hot\")\n",
    "import pylab\n",
    "import os\n",
    "import glob\n",
    "import torch\n",
    "import torch.nn as nn\n",
    "import torch.optim as optim\n",
    "import torch.nn.functional as F\n",
    "import time\n",
    "import resource\n",
    "import psutil\n",
    "from contextlib import closing\n",
    "from torch.autograd import Variable\n",
    "import uuid\n",
    "import dlinputs as dli\n",
    "import dlmodels as dlm\n",
    "import dltrainers as dlt"
   ]
  },
  {
   "cell_type": "markdown",
   "metadata": {},
   "source": [
    "# ImageClassifierTrainer"
   ]
  },
  {
   "cell_type": "code",
   "execution_count": 3,
   "metadata": {},
   "outputs": [
    {
     "data": {
      "text/plain": [
       "(\n",
       " -0.0052 -0.5946  0.7282 -0.4046 -0.4507  0.1504  0.2721 -0.1746  0.1073  0.1384\n",
       " [torch.FloatTensor of size 1x10], 1.054551124572754)"
      ]
     },
     "execution_count": 3,
     "metadata": {},
     "output_type": "execute_result"
    }
   ],
   "source": [
    "with dlm.specops:\n",
    "    model = Cr(7) | Flat() | Fl(10)\n",
    "net = model.create(1, 1, 28, 28)\n",
    "tr = dlt.ImageClassifierTrainer(net)\n",
    "x = randn(1, 28, 28, 1)\n",
    "y = randn(1, 10)\n",
    "tr.train_batch(x, y)"
   ]
  },
  {
   "cell_type": "markdown",
   "metadata": {},
   "source": [
    "# Image2ImageTrainer"
   ]
  },
  {
   "cell_type": "code",
   "execution_count": 4,
   "metadata": {},
   "outputs": [
    {
     "data": {
      "text/plain": [
       "torch.Size([1, 14, 14, 10])"
      ]
     },
     "execution_count": 4,
     "metadata": {},
     "output_type": "execute_result"
    }
   ],
   "source": [
    "with dlm.specops:\n",
    "    model = Cr(7) | Mp(2) | Cl(10)\n",
    "net = model.create(1, 1, 28, 28)\n",
    "tr = dlt.Image2ImageTrainer(net)\n",
    "x = randn(1, 28, 28, 1)\n",
    "y = randn(1, 28, 28, 10)\n",
    "z, l = tr.train_batch(x, y)\n",
    "z.size()"
   ]
  },
  {
   "cell_type": "markdown",
   "metadata": {},
   "source": [
    "# Image2SeqTrainer"
   ]
  },
  {
   "cell_type": "code",
   "execution_count": 5,
   "metadata": {},
   "outputs": [
    {
     "name": "stdout",
     "output_type": "stream",
     "text": [
      "Input: (1L, 1L, 100L, 28L) None\n",
      "Seq (\n",
      "  (0): Conv2d(1, 7, kernel_size=(3, 3), stride=(1, 1), padding=(1, 1))\n",
      "  (1): ReLU ()\n",
      "  (2): Img2Seq (\n",
      "  )\n",
      "  (3): Conv1d(196, 10, kernel_size=(3,), stride=(1,), padding=(1,))\n",
      ")\n",
      "Output: (1L, 10L, 100L) None\n",
      "\n",
      "\n",
      "( 0 ,.,.) = \n",
      " -0.1467 -0.2566 -0.0854  ...  -0.3433  0.1473 -0.0807\n",
      "  0.1920  0.7782  0.3591  ...   0.5533  0.5263  0.3459\n",
      "  0.0803 -0.2386 -0.2011  ...   0.0346 -0.2652 -0.1399\n",
      "           ...             ⋱             ...          \n",
      "  0.1970  0.2588 -0.3163  ...   0.0161 -0.1273  0.1207\n",
      "  0.0955  0.2471 -0.0181  ...  -0.0747 -0.4805  0.2127\n",
      "  0.1112  0.0248 -0.0022  ...  -0.1029 -0.1103  0.0826\n",
      "[torch.FloatTensor of size 1x10x100]\n",
      " 327.772857666\n"
     ]
    }
   ],
   "source": [
    "with dlm.specops:\n",
    "    model = Cr(7) | Img2Seq() | Cl(10)\n",
    "net = model.create(1, 1, 100, 28)\n",
    "print net\n",
    "tr = dlt.Image2SeqTrainer(net)\n",
    "x = randn(1, 100, 28, 1)\n",
    "y = rand(1, 10, 23)\n",
    "y /= sum(y, 1)[:, newaxis, :]\n",
    "z, l = tr.train_batch(x, y)\n",
    "print z, l"
   ]
  },
  {
   "cell_type": "raw",
   "metadata": {},
   "source": []
  },
  {
   "cell_type": "code",
   "execution_count": null,
   "metadata": {
    "collapsed": true
   },
   "outputs": [],
   "source": []
  }
 ],
 "metadata": {
  "kernelspec": {
   "display_name": "Python 2",
   "language": "python",
   "name": "python2"
  },
  "language_info": {
   "codemirror_mode": {
    "name": "ipython",
    "version": 2
   },
   "file_extension": ".py",
   "mimetype": "text/x-python",
   "name": "python",
   "nbconvert_exporter": "python",
   "pygments_lexer": "ipython2",
   "version": "2.7.12"
  }
 },
 "nbformat": 4,
 "nbformat_minor": 2
}
