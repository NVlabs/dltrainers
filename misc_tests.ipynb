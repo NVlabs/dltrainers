{
 "cells": [
  {
   "cell_type": "code",
   "execution_count": 1,
   "metadata": {},
   "outputs": [
    {
     "name": "stdout",
     "output_type": "stream",
     "text": [
      "Populating the interactive namespace from numpy and matplotlib\n"
     ]
    }
   ],
   "source": [
    "%pylab inline"
   ]
  },
  {
   "cell_type": "code",
   "execution_count": 2,
   "metadata": {},
   "outputs": [
    {
     "name": "stdout",
     "output_type": "stream",
     "text": [
      "<class 'dlinputs.storage.GsStorage'>: failed to initialize\n"
     ]
    }
   ],
   "source": [
    "from pylab import *\n",
    "rc(\"image\", cmap=\"hot\")\n",
    "import pylab\n",
    "import os\n",
    "import glob\n",
    "import torch\n",
    "import torch.nn as nn\n",
    "import torch.optim as optim\n",
    "import torch.nn.functional as F\n",
    "import time\n",
    "import resource\n",
    "import psutil\n",
    "from contextlib import closing\n",
    "from torch.autograd import Variable\n",
    "import uuid\n",
    "import dlinputs as dli\n",
    "import dlmodels as dlm\n",
    "import dltrainers as dlt"
   ]
  },
  {
   "cell_type": "markdown",
   "metadata": {},
   "source": [
    "# ImageClassifierTrainer"
   ]
  },
  {
   "cell_type": "code",
   "execution_count": 3,
   "metadata": {},
   "outputs": [
    {
     "data": {
      "text/plain": [
       "(\n",
       "  0.3994 -0.1774  0.1504  0.2443  0.0432 -0.1223  0.0056  0.2210  0.0956  0.4134\n",
       " [torch.FloatTensor of size 1x10], 0.41487568616867065)"
      ]
     },
     "execution_count": 3,
     "metadata": {},
     "output_type": "execute_result"
    }
   ],
   "source": [
    "reload(dlt)\n",
    "with dlm.specops:\n",
    "    model = Cr(7) | Flat() | Fl(10)\n",
    "net = model.create(1, 1, 28, 28)\n",
    "tr = dlt.ImageClassifierTrainer(net)\n",
    "x = randn(1, 28, 28, 1)\n",
    "y = randn(1, 10)\n",
    "tr.train_batch(x, y)"
   ]
  },
  {
   "cell_type": "markdown",
   "metadata": {},
   "source": [
    "# Image2ImageTrainer"
   ]
  },
  {
   "cell_type": "code",
   "execution_count": 4,
   "metadata": {},
   "outputs": [
    {
     "data": {
      "text/plain": [
       "(numpy.ndarray, float)"
      ]
     },
     "execution_count": 4,
     "metadata": {},
     "output_type": "execute_result"
    }
   ],
   "source": [
    "with dlm.specops:\n",
    "    model = Cr(7) | Mp(2) | Cl(10)\n",
    "net = model.create(1, 1, 28, 28)\n",
    "tr = dlt.Image2ImageTrainer(net)\n",
    "x = randn(1, 28, 28, 1)\n",
    "y = randn(1, 28, 28, 10)\n",
    "z, l = tr.train_batch(x, y)\n",
    "type(z), type(l)"
   ]
  },
  {
   "cell_type": "markdown",
   "metadata": {},
   "source": [
    "# Image2SeqTrainer"
   ]
  },
  {
   "cell_type": "code",
   "execution_count": 5,
   "metadata": {},
   "outputs": [
    {
     "name": "stdout",
     "output_type": "stream",
     "text": [
      "(1, 1, 100, 28) -> (1L, 10L, 100L)\n",
      "(1, 1, 100, 28) -> (1L, 10L, 100L)\n",
      "Sequence(\n",
      "  (0): Conv2d(1, 7, kernel_size=(3, 3), stride=(1, 1), padding=(1, 1))\n",
      "  (1): ReLU()\n",
      "  (2): Img2Seq(\n",
      "  )\n",
      "  (3): Conv1d(196, 10, kernel_size=(3,), stride=(1,), padding=(1,))\n",
      ")\n",
      "\n",
      "( 0 ,.,.) = \n",
      "  0.1327  0.1116  0.1927  ...  -0.0458 -0.0143 -0.0647\n",
      "  0.0428 -0.1556  0.0588  ...  -0.1216 -0.2754 -0.1811\n",
      "  0.0979  0.3004  0.2792  ...   0.2474  0.1289  0.1319\n",
      "           ...             ⋱             ...          \n",
      "  0.0630  0.1060  0.0750  ...   0.2565  0.2461  0.3753\n",
      " -0.0551 -0.1478  0.0675  ...  -0.2060 -0.0533  0.2319\n",
      "  0.2597  0.3514 -0.3566  ...   0.0346 -0.2311 -0.1510\n",
      "[torch.FloatTensor of size 1x10x100]\n",
      " 327.064758301\n"
     ]
    },
    {
     "name": "stderr",
     "output_type": "stream",
     "text": [
      "dltrainers/trainers.py:299: UserWarning: Implicit dimension choice for softmax has been deprecated. Change the call to include dim=X as an argument.\n",
      "  smbatch = F.softmax(batch)\n"
     ]
    }
   ],
   "source": [
    "with dlm.specops:\n",
    "    model = Cr(7) | Img2Seq() | Cl(10)\n",
    "net = model.create(1, 1, 100, 28)\n",
    "print net\n",
    "tr = dlt.Image2SeqTrainer(net)\n",
    "x = randn(1, 100, 28, 1)\n",
    "y = rand(1, 10, 23)\n",
    "y /= sum(y, 1)[:, newaxis, :]\n",
    "z, l = tr.train_batch(x, y)\n",
    "print z, l"
   ]
  },
  {
   "cell_type": "raw",
   "metadata": {},
   "source": []
  },
  {
   "cell_type": "code",
   "execution_count": null,
   "metadata": {},
   "outputs": [],
   "source": []
  }
 ],
 "metadata": {
  "kernelspec": {
   "display_name": "Python 2",
   "language": "python",
   "name": "python2"
  },
  "language_info": {
   "codemirror_mode": {
    "name": "ipython",
    "version": 2
   },
   "file_extension": ".py",
   "mimetype": "text/x-python",
   "name": "python",
   "nbconvert_exporter": "python",
   "pygments_lexer": "ipython2",
   "version": "2.7.12"
  }
 },
 "nbformat": 4,
 "nbformat_minor": 2
}
