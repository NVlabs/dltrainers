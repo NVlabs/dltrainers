{
 "cells": [
  {
   "cell_type": "code",
   "execution_count": 1,
   "metadata": {},
   "outputs": [
    {
     "name": "stdout",
     "output_type": "stream",
     "text": [
      "Populating the interactive namespace from numpy and matplotlib\n"
     ]
    }
   ],
   "source": [
    "%pylab inline\n",
    "import numpy as np\n",
    "import scipy as sc\n",
    "import scipy.ndimage as ndi\n",
    "import pylab as pl\n",
    "import matplotlib as mpl\n",
    "from IPython import display\n",
    "from itertools import islice\n",
    "rc(\"image\", cmap=\"gray\")\n",
    "import dlinputs as dli\n",
    "import dlmodels as dlm\n",
    "import dltrainers as dlt"
   ]
  },
  {
   "cell_type": "markdown",
   "metadata": {},
   "source": [
    "# Trainers\n",
    "\n",
    "Trainers allow quick and simple training of models. Unlike other deep learning frameworks, trainers are just temporary scaffolds for training a model; that is, they are wrapped around a model, used for training, and then discarded, leaving only the trained model.\n",
    "\n",
    "In addition, trainers do not invert control; that is, you write a standard stochastic gradient descent training loop. This is not only less mysterious than burying the loop inside some framework, it also gives a great deal more flexibility in terms of training logic.\n",
    "\n",
    "Trainers also provide convenient logic for dynamic displays inside iPython notbooks (`trainer.display_loss()`)."
   ]
  },
  {
   "cell_type": "code",
   "execution_count": 2,
   "metadata": {},
   "outputs": [
    {
     "data": {
      "text/plain": [
       "Input: (17L, 1L, 28L, 28L) None\n",
       "Seq (\n",
       "  (0): Conv2d(1, 64, kernel_size=(3, 3), stride=(1, 1), padding=(1, 1), bias=False)\n",
       "  (1): BatchNorm2d(64, eps=1e-05, momentum=0.1, affine=True)\n",
       "  (2): ReLU ()\n",
       "  (3): MaxPool2d (size=(2, 2), stride=(2, 2), dilation=(1, 1))\n",
       "  (4): Conv2d(64, 64, kernel_size=(3, 3), stride=(1, 1), padding=(1, 1), bias=False)\n",
       "  (5): BatchNorm2d(64, eps=1e-05, momentum=0.1, affine=True)\n",
       "  (6): ReLU ()\n",
       "  (7): MaxPool2d (size=(2, 2), stride=(2, 2), dilation=(1, 1))\n",
       "  (8): Viewer (-1, 3136)\n",
       "  (9): Linear (3136 -> 100)\n",
       "  (10): BatchNorm1d(100, eps=1e-05, momentum=0.1, affine=True)\n",
       "  (11): ReLU ()\n",
       "  (12): Linear (100 -> 10)\n",
       ")\n",
       "Output: (17L, 10L) None"
      ]
     },
     "execution_count": 2,
     "metadata": {},
     "output_type": "execute_result"
    }
   ],
   "source": [
    "with dlm.specops:\n",
    "    template = (Cbr(64) | Mp(2))**2 | Flat() | Fbr(100) | Fl(10)\n",
    "model = template.create(17, 1, 28, 28)\n",
    "model"
   ]
  },
  {
   "cell_type": "code",
   "execution_count": 3,
   "metadata": {
    "collapsed": true
   },
   "outputs": [],
   "source": [
    "import dltrainers as dlt\n",
    "trainer = dlt.ImageClassifierTrainer(model)\n",
    "trainer.set_lr(1e-2)"
   ]
  },
  {
   "cell_type": "code",
   "execution_count": 4,
   "metadata": {},
   "outputs": [
    {
     "data": {
      "image/png": "[encoded data removed]",
      "text/plain": [
       "<matplotlib.figure.Figure at 0x7fdec8693910>"
      ]
     },
     "metadata": {},
     "output_type": "display_data"
    },
    {
     "data": {
      "text/plain": [
       "<matplotlib.figure.Figure at 0x7fdec8693910>"
      ]
     },
     "metadata": {},
     "output_type": "display_data"
    }
   ],
   "source": [
    "data = (dli.itsqlite(\"testdata/sample.db\", epochs=5000) |\n",
    "        dli.itmap(image=dli.pilgray, cls=int) |\n",
    "        dli.itbatch(17) |\n",
    "        dli.itslice(0, 1000))\n",
    "for sample in data:\n",
    "    inputs = expand_dims(sample[\"image\"], 3)\n",
    "    classes = sample[\"cls\"]\n",
    "    outputs, loss = trainer.train_batch(inputs, classes)\n",
    "    # print outputs.size(), loss\n",
    "    trainer.display_loss()\n",
    "clf()"
   ]
  },
  {
   "cell_type": "code",
   "execution_count": null,
   "metadata": {
    "collapsed": true
   },
   "outputs": [],
   "source": []
  }
 ],
 "metadata": {
  "kernelspec": {
   "display_name": "Python 2",
   "language": "python",
   "name": "python2"
  },
  "language_info": {
   "codemirror_mode": {
    "name": "ipython",
    "version": 2
   },
   "file_extension": ".py",
   "mimetype": "text/x-python",
   "name": "python",
   "nbconvert_exporter": "python",
   "pygments_lexer": "ipython2",
   "version": "2.7.12"
  }
 },
 "nbformat": 4,
 "nbformat_minor": 1
}
