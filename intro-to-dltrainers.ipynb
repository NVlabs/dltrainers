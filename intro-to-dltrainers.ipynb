{
 "cells": [
  {
   "cell_type": "code",
   "execution_count": 1,
   "metadata": {},
   "outputs": [
    {
     "name": "stdout",
     "output_type": "stream",
     "text": [
      "Populating the interactive namespace from numpy and matplotlib\n"
     ]
    }
   ],
   "source": [
    "%pylab inline\n",
    "import numpy as np\n",
    "import scipy as sc\n",
    "import scipy.ndimage as ndi\n",
    "import pylab as pl\n",
    "import matplotlib as mpl\n",
    "from IPython import display\n",
    "from itertools import islice\n",
    "rc(\"image\", cmap=\"gray\")\n",
    "from dlinputs import tarrecords, gopen, utils, filters, sqlitedb\n",
    "import dltrainers as dlt\n",
    "from dltrainers import flex, layers\n",
    "import torch\n",
    "from torch import nn\n",
    "from torch.autograd import Variable"
   ]
  },
  {
   "cell_type": "markdown",
   "metadata": {},
   "source": [
    "# Flex Models"
   ]
  },
  {
   "cell_type": "code",
   "execution_count": 2,
   "metadata": {},
   "outputs": [
    {
     "data": {
      "text/plain": [
       "Sequential(\n",
       "  (0): Flex:None\n",
       "  (1): MaxPool2d(kernel_size=(2, 2), stride=(2, 2), dilation=(1, 1), ceil_mode=False)\n",
       "  (2): Flex:None\n",
       "  (3): MaxPool2d(kernel_size=(2, 2), stride=(2, 2), dilation=(1, 1), ceil_mode=False)\n",
       "  (4): Flat\n",
       "  (5): Flex:None\n",
       "  (6): ReLU()\n",
       "  (7): Flex:None\n",
       "  (8): Sigmoid()\n",
       ")"
      ]
     },
     "execution_count": 2,
     "metadata": {},
     "output_type": "execute_result"
    }
   ],
   "source": [
    "model = nn.Sequential(\n",
    "    flex.Conv2d(64, 3),\n",
    "    nn.MaxPool2d(2),\n",
    "    flex.Conv2d(64, 3),\n",
    "    nn.MaxPool2d(2),\n",
    "    layers.Flat(),\n",
    "    flex.Linear(100),\n",
    "    nn.ReLU(),\n",
    "    flex.Linear(10),\n",
    "    nn.Sigmoid()\n",
    ")\n",
    "model"
   ]
  },
  {
   "cell_type": "code",
   "execution_count": 3,
   "metadata": {},
   "outputs": [
    {
     "data": {
      "text/plain": [
       "Sequential(\n",
       "  (0): Flex:Conv2d(1, 64, kernel_size=(3, 3), stride=(1, 1))\n",
       "  (1): MaxPool2d(kernel_size=(2, 2), stride=(2, 2), dilation=(1, 1), ceil_mode=False)\n",
       "  (2): Flex:Conv2d(64, 64, kernel_size=(3, 3), stride=(1, 1))\n",
       "  (3): MaxPool2d(kernel_size=(2, 2), stride=(2, 2), dilation=(1, 1), ceil_mode=False)\n",
       "  (4): Flat\n",
       "  (5): Flex:Linear(in_features=1600, out_features=100, bias=True)\n",
       "  (6): ReLU()\n",
       "  (7): Flex:Linear(in_features=100, out_features=10, bias=True)\n",
       "  (8): Sigmoid()\n",
       ")"
      ]
     },
     "execution_count": 3,
     "metadata": {},
     "output_type": "execute_result"
    }
   ],
   "source": [
    "x = torch.randn(10, 1, 28, 28)\n",
    "model.forward(Variable(x))\n",
    "model"
   ]
  },
  {
   "cell_type": "markdown",
   "metadata": {},
   "source": [
    "# Trainers\n",
    "\n",
    "Trainers allow quick and simple training of models. Unlike other deep learning frameworks, trainers are just temporary scaffolds for training a model; that is, they are wrapped around a model, used for training, and then discarded, leaving only the trained model.\n",
    "\n",
    "In addition, trainers do not invert control; that is, you write a standard stochastic gradient descent training loop. This is not only less mysterious than burying the loop inside some framework, it also gives a great deal more flexibility in terms of training logic.\n",
    "\n",
    "Trainers also provide convenient logic for dynamic displays inside iPython notbooks (`trainer.display_loss()`)."
   ]
  },
  {
   "cell_type": "code",
   "execution_count": 4,
   "metadata": {},
   "outputs": [],
   "source": [
    "import dltrainers as dlt\n",
    "trainer = dlt.ImageClassifierTrainer(model)\n",
    "trainer.set_lr(1e-2)"
   ]
  },
  {
   "cell_type": "code",
   "execution_count": 5,
   "metadata": {},
   "outputs": [
    {
     "data": {
      "text/plain": [
       "['image', 'inx', '__epoch__', 'cls']"
      ]
     },
     "execution_count": 5,
     "metadata": {},
     "output_type": "execute_result"
    }
   ],
   "source": [
    "source = sqlitedb.sqlitedb(\"testdata/sample.db\", epochs=5000)\n",
    "pipeline = filters.compose(\n",
    "    filters.map(image=utils.pilgray, cls=int),\n",
    "    filters.batched(17),\n",
    "    filters.sliced(0, 1000)\n",
    ")\n",
    "data = pipeline(source)\n",
    "data.next().keys()"
   ]
  },
  {
   "cell_type": "code",
   "execution_count": null,
   "metadata": {},
   "outputs": [
    {
     "data": {
      "image/png": "[encoded data removed]",
      "text/plain": [
       "<Figure size 432x288 with 1 Axes>"
      ]
     },
     "metadata": {},
     "output_type": "display_data"
    }
   ],
   "source": [
    "for sample in data:\n",
    "    inputs = expand_dims(sample[\"image\"], 3)\n",
    "    classes = sample[\"cls\"]\n",
    "    outputs, loss = trainer.train_batch(inputs, classes)\n",
    "    clf()\n",
    "    xscale('log'); yscale('log')\n",
    "    trainer.plot_loss()\n",
    "    dlt.update_display()"
   ]
  },
  {
   "cell_type": "code",
   "execution_count": null,
   "metadata": {},
   "outputs": [],
   "source": []
  }
 ],
 "metadata": {
  "kernelspec": {
   "display_name": "Python 2",
   "language": "python",
   "name": "python2"
  },
  "language_info": {
   "codemirror_mode": {
    "name": "ipython",
    "version": 2
   },
   "file_extension": ".py",
   "mimetype": "text/x-python",
   "name": "python",
   "nbconvert_exporter": "python",
   "pygments_lexer": "ipython2",
   "version": "2.7.12"
  }
 },
 "nbformat": 4,
 "nbformat_minor": 1
}
